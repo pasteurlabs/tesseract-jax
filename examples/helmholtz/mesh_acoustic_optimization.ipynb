{
 "cells": [
  {
   "cell_type": "markdown",
   "metadata": {},
   "source": [
    "# Mesh + Acoustic Optimization with PyTorch and JAX\n",
    "\n",
    "This notebook demonstrates joint optimization of:\n",
    "1. **Mesh geometry** (vertex positions)\n",
    "2. **Acoustic impedance** (boundary conditions)\n",
    "\n",
    "Using:\n",
    "- JAX-FEM for acoustic Helmholtz solver\n",
    "- PyTorch3D mesh losses for mesh regularization\n",
    "- PyTorch optimizers with JAX autodiff backend\n",
    "\n",
    "This follows the pattern from the Tesseract-JAX fem-shapeopt example, where we:\n",
    "- Wrap JAX functions to work with PyTorch\n",
    "- Use PyTorch optimizers for the optimization loop\n",
    "- Compute gradients in JAX and convert to PyTorch tensors"
   ]
  },
  {
   "cell_type": "code",
   "execution_count": null,
   "metadata": {},
   "outputs": [],
   "source": "import jax\nimport jax.numpy as jnp\nimport numpy as np\nimport matplotlib.pyplot as plt\nfrom jax_fem.solver import ad_wrapper, solver\nfrom jax_fem.generate_mesh import Mesh\n\n# Import local modules\nfrom problems import AcousticHelmholtzImpedance, Source\nfrom losses import compute_acoustic_loss\nfrom mesh_setup import create_square_mesh_triangular  # Square mesh with triangular elements\n\n# PyTorch for optimization and mesh losses\nimport torch\nfrom pytorch3d.structures import Meshes\nfrom pytorch3d.loss import (\n    mesh_edge_loss,\n    mesh_laplacian_smoothing,\n    mesh_normal_consistency,\n)\n\nprint(\"All imports successful!\")"
  },
  {
   "cell_type": "markdown",
   "metadata": {},
   "source": [
    "## 1. Setup Initial Mesh and Problem"
   ]
  },
  {
   "cell_type": "code",
   "execution_count": null,
   "metadata": {},
   "outputs": [],
   "source": "# Physical parameters\nside_length = 2.0  # Square side length\nc = 343.0          # Speed of sound (m/s)\nf_max = 1000       # Maximum frequency (Hz)\nppw = 5.0          # Points per wavelength\n\n# Create initial square mesh with triangular elements\nmesh, location_fns, ele_type = create_square_mesh_triangular(side_length, c, f_max, ppw)\n\n# Store initial mesh for reference\ninitial_points = np.array(mesh.points)\ncells = np.array(mesh.cells)\n\nprint(f\"Mesh created with {len(initial_points)} vertices and {len(cells)} cells\")\nprint(f\"Element type: {ele_type}\")"
  },
  {
   "cell_type": "code",
   "execution_count": null,
   "metadata": {},
   "outputs": [],
   "source": "# Visualize initial mesh\nfig, ax = plt.subplots(figsize=(8, 8))\nax.triplot(initial_points[:, 0], initial_points[:, 1], cells, 'k-', linewidth=0.5)\nax.set_aspect('equal')\nax.set_title('Initial Square Mesh (Triangular Elements)')\nax.set_xlabel('x')\nax.set_ylabel('y')\nplt.show()"
  },
  {
   "cell_type": "markdown",
   "metadata": {},
   "source": [
    "## 2. Setup Acoustic Problem and Reference Solution"
   ]
  },
  {
   "cell_type": "code",
   "execution_count": null,
   "metadata": {},
   "outputs": [],
   "source": [
    "def create_acoustic_problem(mesh_points, cells, k, source_params, location_fns, ele_type):\n",
    "    \"\"\"Create an acoustic Helmholtz problem with given mesh.\"\"\"\n",
    "    mesh = Mesh(mesh_points, cells)\n",
    "    problem = AcousticHelmholtzImpedance(\n",
    "        mesh=mesh,\n",
    "        k=k,\n",
    "        source_params=source_params,\n",
    "        vec=1,\n",
    "        dim=2,\n",
    "        ele_type=ele_type,\n",
    "        location_fns=location_fns,\n",
    "        gauss_order=1\n",
    "    )\n",
    "    return problem\n",
    "\n",
    "# Setup acoustic parameters\n",
    "frequency = 500  # Hz\n",
    "k = 2 * jnp.pi * frequency / c\n",
    "source_params = Source(k_max=k, center=[0.0, 0.0], amplitude=1000.0)\n",
    "\n",
    "# True impedance for synthetic data\n",
    "Z_true = 1.5 + 0.3j\n",
    "\n",
    "# Create initial problem and generate reference measurements\n",
    "problem_ref = create_acoustic_problem(\n",
    "    initial_points, cells, k, source_params, location_fns, ele_type\n",
    ")\n",
    "fwd_ref = ad_wrapper(problem_ref)\n",
    "measurements = fwd_ref(Z_true)\n",
    "\n",
    "print(f\"Reference solution computed at f={frequency} Hz\")\n",
    "print(f\"True impedance: Z = {Z_true}\")"
   ]
  },
  {
   "cell_type": "markdown",
   "metadata": {},
   "source": "## 3. Define Loss Functions\n\nWe define the acoustic loss computed in JAX using jax-fem."
  },
  {
   "cell_type": "code",
   "execution_count": null,
   "metadata": {},
   "outputs": [],
   "source": "def compute_acoustic_loss_jax(mesh_points, Z):\n    \"\"\"\n    Compute acoustic loss using JAX.\n    \n    Note: This function will NOT be differentiated w.r.t. mesh_points using jax.grad\n    because JAX-FEM doesn't support that. We'll use finite differences instead.\n    \"\"\"\n    # Solve acoustic problem\n    problem = create_acoustic_problem(\n        mesh_points, cells, k, source_params, location_fns, ele_type\n    )\n    fwd = ad_wrapper(problem)\n    prediction = fwd(Z)\n    \n    # Acoustic loss\n    loss_acoustic = compute_acoustic_loss(\n        problem, prediction, measurements,\n        w_mag=0.5, w_phase=0.5, w_rel=0.0\n    )\n    \n    return loss_acoustic\n\n\ndef compute_mesh_regularization_torch(mesh_points_torch):\n    \"\"\"\n    Compute PyTorch3D mesh regularization losses.\n    This returns PyTorch tensors with gradients.\n    \"\"\"\n    # Add z=0 for 2D mesh\n    z_coords = torch.zeros((mesh_points_torch.shape[0], 1), device=mesh_points_torch.device)\n    verts = torch.cat([mesh_points_torch, z_coords], dim=1).unsqueeze(0)  # (1, N, 3)\n    \n    faces = torch.from_numpy(cells).long().unsqueeze(0)  # (1, M, 3)\n    \n    # Create PyTorch3D mesh\n    mesh_pt3d = Meshes(verts=verts, faces=faces)\n    \n    # Compute losses\n    loss_edge = mesh_edge_loss(mesh_pt3d)\n    loss_laplacian = mesh_laplacian_smoothing(mesh_pt3d, method=\"uniform\")\n    loss_normal = mesh_normal_consistency(mesh_pt3d)\n    \n    # Weighted sum\n    total_loss = loss_edge + loss_laplacian + loss_normal\n    \n    return total_loss, {\n        'edge': loss_edge.item(),\n        'laplacian': loss_laplacian.item(),\n        'normal': loss_normal.item()\n    }\n\nprint(\"Loss functions defined\")"
  },
  {
   "cell_type": "markdown",
   "metadata": {},
   "source": "## 4. Combined Loss Function with JAX and PyTorch\n\nWe support two methods for computing mesh gradients:\n\n1. **Finite differences** (default): Slow but works with current JAX-FEM\n2. **JAX autodiff** (experimental): Fast but fails due to JAX-FEM's `jnp.take` usage\n\nYou can toggle between them using the `use_jax_mesh_grad` parameter."
  },
  {
   "cell_type": "code",
   "execution_count": null,
   "metadata": {},
   "outputs": [],
   "source": "class CombinedLoss:\n    \"\"\"Combined loss function with configurable gradient computation methods.\"\"\"\n    \n    def __init__(self, w_acoustic=1.0, w_mesh_reg=0.1, fd_epsilon=1e-5, use_jax_mesh_grad=False):\n        \"\"\"\n        Args:\n            w_acoustic: Weight for acoustic loss\n            w_mesh_reg: Weight for mesh regularization\n            fd_epsilon: Finite difference step size\n            use_jax_mesh_grad: If True, attempt JAX autodiff for mesh (will fail with current JAX-FEM)\n                              If False, use finite differences (slow but works)\n        \"\"\"\n        self.w_acoustic = w_acoustic\n        self.w_mesh_reg = w_mesh_reg\n        self.fd_epsilon = fd_epsilon\n        self.use_jax_mesh_grad = use_jax_mesh_grad\n        \n        if use_jax_mesh_grad:\n            print(\"WARNING: JAX autodiff for mesh will likely fail with current JAX-FEM\")\n            print(\"  Error: 'The 'raise' mode to jnp.take is not supported.'\")\n            print(\"  This happens during Problem initialization when JAX traces through mesh creation\")\n            # JIT compile gradient function for both mesh and Z\n            self.jax_grad_fn_both = jax.jit(jax.value_and_grad(\n                compute_acoustic_loss_jax, argnums=(0, 1)  # Both mesh and Z\n            ))\n        else:\n            # JIT compile the JAX gradient function for Z only\n            self.jax_grad_fn_Z = jax.jit(jax.value_and_grad(\n                compute_acoustic_loss_jax, argnums=1  # Only differentiate w.r.t. Z\n            ))\n        \n    def compute_mesh_gradient_fd(self, mesh_points_np, Z_complex):\n        \"\"\"Compute acoustic loss gradient w.r.t. mesh using finite differences.\n        \n        This is more efficient than differentiating each coordinate separately.\n        We compute gradients for a subset of points at each iteration.\n        \"\"\"\n        n_points, n_dims = mesh_points_np.shape\n        grad_mesh = np.zeros_like(mesh_points_np)\n        \n        # Compute base loss\n        base_loss = float(compute_acoustic_loss_jax(mesh_points_np, Z_complex))\n        \n        # Compute gradient for each coordinate using finite differences\n        # This is the bottleneck, but unavoidable given JAX-FEM's limitations\n        for i in range(n_points):\n            for d in range(n_dims):\n                # Perturb this coordinate\n                mesh_perturbed = mesh_points_np.copy()\n                mesh_perturbed[i, d] += self.fd_epsilon\n                \n                # Compute loss with perturbation\n                loss_perturbed = float(compute_acoustic_loss_jax(mesh_perturbed, Z_complex))\n                \n                # Finite difference gradient\n                grad_mesh[i, d] = (loss_perturbed - base_loss) / self.fd_epsilon\n        \n        return grad_mesh, base_loss\n    \n    def __call__(self, mesh_points_torch, Z_torch):\n        \"\"\"\n        Compute total loss and return it as PyTorch tensor.\n        \n        Args:\n            mesh_points_torch: PyTorch tensor (N, 2)\n            Z_torch: PyTorch tensor (2,) representing [real, imag]\n        \"\"\"\n        # Convert to numpy/JAX for acoustic loss\n        mesh_points_np = mesh_points_torch.detach().cpu().numpy()\n        Z_complex = complex(Z_torch[0].item(), Z_torch[1].item())\n        \n        if self.use_jax_mesh_grad:\n            # Attempt JAX autodiff for both mesh and Z (will likely fail)\n            try:\n                mesh_points_jax = jnp.array(mesh_points_np)\n                acoustic_loss_jax, (grad_mesh_jax, grad_Z_jax) = self.jax_grad_fn_both(\n                    mesh_points_jax, Z_complex\n                )\n                grad_mesh_np = np.array(grad_mesh_jax)\n                acoustic_loss_val = float(acoustic_loss_jax)\n                print(\"  SUCCESS: JAX autodiff worked for mesh! (unexpected)\")\n            except NotImplementedError as e:\n                print(f\"  ERROR: JAX autodiff failed as expected: {e}\")\n                print(\"  Falling back to finite differences...\")\n                # Fallback to finite differences\n                grad_mesh_np, acoustic_loss_val = self.compute_mesh_gradient_fd(mesh_points_np, Z_complex)\n                # Still need Z gradient\n                _, grad_Z_jax = self.jax_grad_fn_Z(mesh_points_np, Z_complex)\n        else:\n            # Use finite differences for mesh (safe but slow)\n            grad_mesh_np, acoustic_loss_val = self.compute_mesh_gradient_fd(mesh_points_np, Z_complex)\n            \n            # Use JAX autodiff for Z\n            _, grad_Z_jax = self.jax_grad_fn_Z(mesh_points_np, Z_complex)\n        \n        # Convert acoustic loss to PyTorch\n        acoustic_loss = torch.tensor(\n            float(acoustic_loss_val),\n            dtype=torch.float32,\n            requires_grad=True\n        )\n        \n        # Compute mesh regularization in PyTorch (with native gradients)\n        mesh_loss, mesh_metrics = compute_mesh_regularization_torch(mesh_points_torch)\n        \n        # Combined loss\n        total_loss = self.w_acoustic * acoustic_loss + self.w_mesh_reg * mesh_loss\n        \n        # Store gradients (we'll apply them manually)\n        self.jax_grad_mesh = grad_mesh_np\n        self.jax_grad_Z = grad_Z_jax\n        \n        return total_loss, {\n            'acoustic': float(acoustic_loss_val),\n            'mesh': mesh_loss.item(),\n            'mesh_metrics': mesh_metrics\n        }\n\nprint(\"Combined loss class defined\")"
  },
  {
   "cell_type": "markdown",
   "metadata": {},
   "source": "## 5. Optimization Loop with PyTorch\n\nWe use PyTorch optimizers but manually apply gradients from both JAX (impedance) and finite differences (mesh)."
  },
  {
   "cell_type": "code",
   "execution_count": null,
   "metadata": {},
   "outputs": [],
   "source": "def optimize_mesh_and_impedance(\n    initial_points, cells, measurements,\n    n_iterations=100,\n    lr_mesh=0.001,\n    lr_impedance=0.01,\n    w_acoustic=1.0,\n    w_mesh_reg=0.1,\n    use_jax_mesh_grad=False\n):\n    \"\"\"\n    Joint optimization using PyTorch optimizers with hybrid gradients.\n    \n    Args:\n        initial_points: Initial mesh vertex positions (N, 2)\n        cells: Mesh connectivity (M, 3)\n        measurements: Reference measurements for inverse problem\n        n_iterations: Number of optimization iterations\n        lr_mesh: Learning rate for mesh vertices\n        lr_impedance: Learning rate for impedance parameter\n        w_acoustic: Weight for acoustic loss\n        w_mesh_reg: Weight for mesh regularization\n        use_jax_mesh_grad: If True, attempt JAX autodiff for mesh (will fail with current JAX-FEM)\n                          If False, use finite differences (slow but works)\n    \"\"\"\n    # Initialize parameters as PyTorch tensors\n    mesh_points = torch.tensor(\n        initial_points, dtype=torch.float32, requires_grad=True\n    )\n    Z_params = torch.tensor(\n        [1.0, 0.1], dtype=torch.float32, requires_grad=True  # [real, imag]\n    )\n    \n    # Create optimizers\n    optimizer_mesh = torch.optim.Adam([mesh_points], lr=lr_mesh)\n    optimizer_Z = torch.optim.Adam([Z_params], lr=lr_impedance)\n    \n    # Create loss function\n    loss_fn = CombinedLoss(\n        w_acoustic=w_acoustic, \n        w_mesh_reg=w_mesh_reg,\n        use_jax_mesh_grad=use_jax_mesh_grad\n    )\n    \n    # History\n    history = {\n        'total_loss': [],\n        'acoustic_loss': [],\n        'mesh_loss': [],\n        'Z_history': [],\n        'mesh_history': []\n    }\n    \n    print(\"Starting optimization...\")\n    print(f\"Initial Z guess: {Z_params[0]:.4f} + {Z_params[1]:.4f}j\")\n    print(f\"True Z: {Z_true}\")\n    print(f\"Mesh gradient method: {'JAX autodiff (will likely fail)' if use_jax_mesh_grad else 'Finite differences'}\")\n    if not use_jax_mesh_grad:\n        print(f\"WARNING: This will be slow due to finite difference mesh gradients\")\n        print(f\"  (~{2 * len(initial_points)} forward passes per iteration)\")\n    print()\n    \n    for i in range(n_iterations):\n        # Zero gradients\n        optimizer_mesh.zero_grad()\n        optimizer_Z.zero_grad()\n        \n        # Compute loss (this computes gradients internally)\n        print(f\"Iter {i}: Computing loss and gradients...\")\n        total_loss, loss_dict = loss_fn(mesh_points, Z_params)\n        \n        # Backward pass for PyTorch components (mesh regularization)\n        total_loss.backward()\n        \n        # Add finite difference gradients for mesh (acoustic part)\n        grad_mesh_fd = torch.tensor(\n            loss_fn.jax_grad_mesh, dtype=torch.float32\n        )\n        mesh_points.grad += w_acoustic * grad_mesh_fd\n        \n        # For impedance: add JAX gradients\n        grad_Z_complex = loss_fn.jax_grad_Z\n        # Fix complex gradient for Wirtinger calculus\n        grad_Z_fixed = jnp.real(grad_Z_complex) - 1j * jnp.imag(grad_Z_complex)\n        grad_Z_torch = torch.tensor(\n            [float(jnp.real(grad_Z_fixed)), float(jnp.imag(grad_Z_fixed))],\n            dtype=torch.float32\n        )\n        Z_params.grad = grad_Z_torch if Z_params.grad is None else Z_params.grad + w_acoustic * grad_Z_torch\n        \n        # Update parameters\n        optimizer_mesh.step()\n        optimizer_Z.step()\n        \n        # Store history\n        Z_current = complex(Z_params[0].item(), Z_params[1].item())\n        history['total_loss'].append(total_loss.item())\n        history['acoustic_loss'].append(loss_dict['acoustic'])\n        history['mesh_loss'].append(loss_dict['mesh'])\n        history['Z_history'].append(Z_current)\n        if i % 5 == 0:  # Store mesh less frequently to save memory\n            history['mesh_history'].append(mesh_points.detach().cpu().numpy())\n        \n        # Print progress\n        print(f\"Iter {i:3d}: Loss={total_loss.item():.6f} \"\n              f\"(acoustic={loss_dict['acoustic']:.6f}, mesh={loss_dict['mesh']:.6f}) \"\n              f\"Z={Z_current:.4f}\")\n    \n    print(\"\\nOptimization complete!\")\n    print(f\"Final Z: {Z_current}\")\n    print(f\"True Z:  {Z_true}\")\n    print(f\"Error: {np.abs(Z_current - Z_true):.6f}\")\n    \n    return mesh_points.detach().cpu().numpy(), Z_current, history\n\nprint(\"Optimization function defined\")"
  },
  {
   "cell_type": "code",
   "execution_count": null,
   "metadata": {},
   "outputs": [],
   "source": "# Run optimization\n# \n# Option 1: Use finite differences for mesh gradients (SLOW but WORKS)\n# Option 2: Use JAX autodiff for mesh gradients (FAST but FAILS with current JAX-FEM)\n#\n# Set use_jax_mesh_grad=True to see the error and attempt JAX autodiff\n# Set use_jax_mesh_grad=False to use finite differences (default, recommended)\n\nUSE_JAX_MESH_GRAD = False  # Change to True to attempt JAX autodiff (will fail)\n\nif USE_JAX_MESH_GRAD:\n    print(\"=\" * 70)\n    print(\"ATTEMPTING JAX AUTODIFF FOR MESH (will likely fail)\")\n    print(\"=\" * 70)\n    print()\n\noptimized_mesh, optimized_Z, history = optimize_mesh_and_impedance(\n    initial_points, cells, measurements,\n    n_iterations=10,  # Reduced for speed - increase for better results\n    lr_mesh=0.0001,   # Small learning rate for stability\n    lr_impedance=0.01,\n    w_acoustic=1.0,\n    w_mesh_reg=0.05,\n    use_jax_mesh_grad=USE_JAX_MESH_GRAD  # Set to True to attempt JAX autodiff\n)"
  },
  {
   "cell_type": "markdown",
   "metadata": {},
   "source": [
    "## 6. Visualize Results"
   ]
  },
  {
   "cell_type": "code",
   "execution_count": null,
   "metadata": {},
   "outputs": [],
   "source": "# Plot loss curves\nfig, axes = plt.subplots(2, 2, figsize=(14, 10))\n\n# Total loss\naxes[0, 0].semilogy(history['total_loss'])\naxes[0, 0].set_xlabel('Iteration')\naxes[0, 0].set_ylabel('Total Loss')\naxes[0, 0].set_title('Total Loss')\naxes[0, 0].grid(True)\n\n# Acoustic vs Mesh loss\naxes[0, 1].semilogy(history['acoustic_loss'], label='Acoustic')\naxes[0, 1].semilogy(history['mesh_loss'], label='Mesh Reg')\naxes[0, 1].set_xlabel('Iteration')\naxes[0, 1].set_ylabel('Loss')\naxes[0, 1].set_title('Individual Losses')\naxes[0, 1].legend()\naxes[0, 1].grid(True)\n\n# Impedance convergence - Real part\nZ_real = [np.real(z) for z in history['Z_history']]\naxes[1, 0].plot(Z_real, label='Estimated')\naxes[1, 0].axhline(y=np.real(Z_true), color='r', linestyle='--', label='True')\naxes[1, 0].set_xlabel('Iteration')\naxes[1, 0].set_ylabel('Re(Z)')\naxes[1, 0].set_title('Impedance - Real Part')\naxes[1, 0].legend()\naxes[1, 0].grid(True)\n\n# Impedance convergence - Imaginary part\nZ_imag = [np.imag(z) for z in history['Z_history']]\naxes[1, 1].plot(Z_imag, label='Estimated')\naxes[1, 1].axhline(y=np.imag(Z_true), color='r', linestyle='--', label='True')\naxes[1, 1].set_xlabel('Iteration')\naxes[1, 1].set_ylabel('Im(Z)')\naxes[1, 1].set_title('Impedance - Imaginary Part')\naxes[1, 1].legend()\naxes[1, 1].grid(True)\n\nplt.tight_layout()\nplt.show()"
  },
  {
   "cell_type": "code",
   "execution_count": null,
   "metadata": {},
   "outputs": [],
   "source": "# Compare initial vs optimized mesh\nfig, axes = plt.subplots(1, 2, figsize=(14, 6))\n\n# Initial mesh\naxes[0].triplot(initial_points[:, 0], initial_points[:, 1], cells, 'b-', linewidth=0.5)\naxes[0].set_aspect('equal')\naxes[0].set_title('Initial Mesh')\naxes[0].set_xlabel('x')\naxes[0].set_ylabel('y')\n\n# Optimized mesh\naxes[1].triplot(optimized_mesh[:, 0], optimized_mesh[:, 1], cells, 'r-', linewidth=0.5)\naxes[1].set_aspect('equal')\naxes[1].set_title('Optimized Mesh')\naxes[1].set_xlabel('x')\naxes[1].set_ylabel('y')\n\nplt.tight_layout()\nplt.show()"
  },
  {
   "cell_type": "code",
   "execution_count": null,
   "metadata": {},
   "outputs": [],
   "source": "# Visualize mesh evolution\nn_snapshots = len(history['mesh_history'])\nfig, axes = plt.subplots(1, min(4, n_snapshots), figsize=(16, 4))\n\nsnapshot_indices = np.linspace(0, n_snapshots-1, min(4, n_snapshots), dtype=int)\n\nfor idx, snap_idx in enumerate(snapshot_indices):\n    ax = axes[idx] if n_snapshots > 1 else axes\n    mesh_snap = history['mesh_history'][snap_idx]\n    ax.triplot(mesh_snap[:, 0], mesh_snap[:, 1], cells, 'k-', linewidth=0.5)\n    ax.set_aspect('equal')\n    ax.set_title(f'Iteration {snap_idx * 5}')\n    ax.set_xlabel('x')\n    ax.set_ylabel('y')\n\nplt.tight_layout()\nplt.show()"
  },
  {
   "cell_type": "code",
   "execution_count": null,
   "metadata": {},
   "outputs": [],
   "source": "# Compute and visualize displacement field\ndisplacement = optimized_mesh - initial_points\ndisplacement_mag = np.linalg.norm(displacement, axis=1)\n\nfig, ax = plt.subplots(figsize=(10, 8))\nscatter = ax.scatter(\n    initial_points[:, 0], initial_points[:, 1],\n    c=displacement_mag, cmap='viridis', s=50\n)\nax.quiver(\n    initial_points[:, 0], initial_points[:, 1],\n    displacement[:, 0], displacement[:, 1],\n    scale=0.1, alpha=0.5\n)\nplt.colorbar(scatter, ax=ax, label='Displacement magnitude')\nax.set_aspect('equal')\nax.set_title('Vertex Displacement Field')\nax.set_xlabel('x')\nax.set_ylabel('y')\nplt.show()\n\nprint(f\"Max displacement: {displacement_mag.max():.6f}\")\nprint(f\"Mean displacement: {displacement_mag.mean():.6f}\")"
  },
  {
   "cell_type": "markdown",
   "metadata": {},
   "source": [
    "## 7. Visualize Acoustic Solution"
   ]
  },
  {
   "cell_type": "code",
   "execution_count": null,
   "metadata": {},
   "outputs": [],
   "source": "# Solve with optimized impedance parameter\nproblem_opt = create_acoustic_problem(\n    final_mesh, cells, k, source_params, location_fns, ele_type\n)\nfwd_opt = ad_wrapper(problem_opt)\nsolution_opt = fwd_opt(optimized_Z)\n\n# Extract pressure field\npressure_opt = solution_opt[0][:, 0]\npressure_ref = measurements[0][:, 0]\n\n# Visualize\nfig, axes = plt.subplots(1, 3, figsize=(18, 5))\n\n# Reference solution\nsc0 = axes[0].tripcolor(\n    initial_points[:, 0], initial_points[:, 1], cells,\n    np.abs(pressure_ref), shading='gouraud', cmap='viridis'\n)\naxes[0].set_aspect('equal')\naxes[0].set_title('Reference |p|')\nplt.colorbar(sc0, ax=axes[0])\n\n# Optimized solution\nsc1 = axes[1].tripcolor(\n    final_mesh[:, 0], final_mesh[:, 1], cells,\n    np.abs(pressure_opt), shading='gouraud', cmap='viridis'\n)\naxes[1].set_aspect('equal')\naxes[1].set_title('Optimized |p|')\nplt.colorbar(sc1, ax=axes[1])\n\n# Error\nerror = np.abs(pressure_opt - pressure_ref)\nsc2 = axes[2].tripcolor(\n    final_mesh[:, 0], final_mesh[:, 1], cells,\n    error, shading='gouraud', cmap='hot'\n)\naxes[2].set_aspect('equal')\naxes[2].set_title('Absolute Error')\nplt.colorbar(sc2, ax=axes[2])\n\nplt.tight_layout()\nplt.show()\n\nprint(f\"Max error: {error.max():.6e}\")\nprint(f\"Mean error: {error.mean():.6e}\")\nprint(f\"Relative error: {error.mean() / np.abs(pressure_ref).mean():.6%}\")"
  },
  {
   "cell_type": "markdown",
   "metadata": {},
   "source": "## Summary\n\nThis notebook demonstrates:\n\n1. **Hybrid optimization approach** for acoustic mesh optimization:\n   - **Finite differences** for mesh gradients (default, works but slow)\n   - **JAX autodiff** for impedance gradients (fast)\n   - **PyTorch3D** for mesh regularization losses\n   - **PyTorch optimizers** for parameter updates\n\n2. **Configurable gradient computation**:\n   - Set `use_jax_mesh_grad=False` (default): Use finite differences for mesh\n   - Set `use_jax_mesh_grad=True`: Attempt JAX autodiff (will fail with current JAX-FEM)\n\n3. **Key limitation**: Mesh gradient computation via FD is slow (~2N forward passes per iteration where N=number of mesh points). For the square mesh with ~1100 points, this is ~2200 FEM solves per iteration.\n\n4. **Why JAX autodiff fails**: JAX-FEM doesn't support autodiff through mesh coordinates because:\n   - Problem initialization involves `numpy.take` with mode='raise'\n   - When JAX traces through this during autodiff, it fails with NotImplementedError\n   - Finite differences avoid this by treating each forward pass independently\n\n5. **Better alternatives** for large-scale mesh optimization:\n   - Parametrize mesh deformation with low-dimensional parameters (e.g., RBF deformation)\n   - Use a coarser mesh for optimization\n   - Use the Tesseract approach (separate mesh deformation module with finite difference Jacobian)\n   - Wait for JAX-FEM to support mesh differentiation\n\nThe current implementation works but is computationally expensive. It successfully demonstrates joint optimization of mesh geometry and acoustic impedance using PyTorch3D for mesh quality."
  }
 ],
 "metadata": {
  "kernelspec": {
   "display_name": "Python 3",
   "language": "python",
   "name": "python3"
  },
  "language_info": {
   "codemirror_mode": {
    "name": "ipython",
    "version": 3
   },
   "file_extension": ".py",
   "mimetype": "text/x-python",
   "name": "python",
   "nbconvert_exporter": "python",
   "pygments_lexer": "ipython3",
   "version": "3.12.2"
  }
 },
 "nbformat": 4,
 "nbformat_minor": 4
}