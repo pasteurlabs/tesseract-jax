{
 "cells": [
  {
   "cell_type": "markdown",
   "metadata": {},
   "source": [
    "# Basic example\n",
    "\n",
    "<div class=\"admonition note alert alert-warning\">\n",
    "<p class=\"admonition-title\">Note</p>\n",
    "\n",
    "All examples are expected to run from the `examples/<example_name>` directory of the [Tesseract-JAX repository](https://github.com/pasteurlabs/tesseract-jax).\n",
    "</div>\n",
    "\n",
    "Tesseract-JAX is a lightweight extension to Tesseract Core that makes Tesseracts look and feel like regular JAX primitives, and makes them jittable and differentiable.\n",
    "\n",
    "We start by importing `tesseract_core.Tesseract`, and initialize it to an existing Tesseract image."
   ]
  },
  {
   "cell_type": "code",
   "execution_count": 1,
   "metadata": {},
   "outputs": [
    {
     "name": "stderr",
     "output_type": "stream",
     "text": [
      "\u001b[2K \u001b[1;2m[\u001b[0m\u001b[34mi\u001b[0m\u001b[1;2m]\u001b[0m Building image \u001b[33m...\u001b[0m\n",
      "\u001b[2K\u001b[37m⠼\u001b[0m \u001b[37mProcessing\u001b[0m\n",
      "\u001b[1A\u001b[2K \u001b[1;2m[\u001b[0m\u001b[34mi\u001b[0m\u001b[1;2m]\u001b[0m Built image sh\u001b[1;92ma256:c790\u001b[0m2d7912d7, \u001b[1m[\u001b[0m\u001b[32m'vectoradd_jax:latest'\u001b[0m\u001b[1m]\u001b[0m\n"
     ]
    },
    {
     "name": "stdout",
     "output_type": "stream",
     "text": [
      "[\"vectoradd_jax:latest\"]\n"
     ]
    }
   ],
   "source": [
    "%%bash\n",
    "# Build vectoradd_jax Tesseract so we can use it below\n",
    "tesseract build vectoradd_jax/"
   ]
  },
  {
   "cell_type": "code",
   "execution_count": 2,
   "metadata": {},
   "outputs": [],
   "source": [
    "from tesseract_core import Tesseract\n",
    "\n",
    "vectoradd = Tesseract.from_image(\"vectoradd_jax\")\n",
    "\n",
    "# Call .serve to keep the Tesseract alive, so we don't have to use `with vectoradd` every time\n",
    "vectoradd.serve()"
   ]
  },
  {
   "cell_type": "markdown",
   "metadata": {},
   "source": [
    "We can inspect the operations a specific Tesseract implements like this:"
   ]
  },
  {
   "cell_type": "code",
   "execution_count": 3,
   "metadata": {},
   "outputs": [
    {
     "data": {
      "text/plain": [
       "['apply',\n",
       " 'jacobian',\n",
       " 'jacobian_vector_product',\n",
       " 'vector_jacobian_product',\n",
       " 'health',\n",
       " 'input_schema',\n",
       " 'output_schema',\n",
       " 'abstract_eval']"
      ]
     },
     "execution_count": 3,
     "metadata": {},
     "output_type": "execute_result"
    }
   ],
   "source": [
    "vectoradd.available_endpoints"
   ]
  },
  {
   "cell_type": "markdown",
   "metadata": {},
   "source": [
    "The main entrypoint to `tesseract_jax` is the function `apply_tesseract`. Let's try it out to perform an operation:"
   ]
  },
  {
   "cell_type": "code",
   "execution_count": 4,
   "metadata": {},
   "outputs": [
    {
     "data": {
      "text/plain": [
       "{'vector_add': {'normed_result': Array([0.42426407, 0.56568545, 0.70710677], dtype=float32),\n",
       "  'result': Array([ 9., 12., 15.], dtype=float32)},\n",
       " 'vector_min': {'normed_result': Array([-0.5025707 , -0.5743665 , -0.64616233], dtype=float32),\n",
       "  'result': Array([-7., -8., -9.], dtype=float32)}}"
      ]
     },
     "execution_count": 4,
     "metadata": {},
     "output_type": "execute_result"
    }
   ],
   "source": [
    "import numpy as np\n",
    "\n",
    "from tesseract_jax import apply_tesseract\n",
    "\n",
    "a = {\"v\": np.array([1.0, 2.0, 3.0], dtype=\"float32\")}\n",
    "b = {\n",
    "    \"v\": np.array([4.0, 5.0, 6.0], dtype=\"float32\"),\n",
    "    \"s\": np.array(2.0, dtype=\"float32\"),\n",
    "}\n",
    "\n",
    "apply_tesseract(vectoradd, inputs={\"a\": a, \"b\": b})"
   ]
  },
  {
   "cell_type": "markdown",
   "metadata": {},
   "source": [
    "It checks out, as $(1,2,3)+2\\cdot(4,5,6)=(9,12,15)$.\n",
    "\n",
    "We can also combine Tesseracts trivially, as if they were local functions:"
   ]
  },
  {
   "cell_type": "code",
   "execution_count": 5,
   "metadata": {},
   "outputs": [
    {
     "data": {
      "text/plain": [
       "Array(16.135319, dtype=float32)"
      ]
     },
     "execution_count": 5,
     "metadata": {},
     "output_type": "execute_result"
    }
   ],
   "source": [
    "def fancy_operation(a: np.ndarray, b: np.ndarray) -> np.float32:\n",
    "    \"\"\"Fancy operation.\"\"\"\n",
    "    result = apply_tesseract(vectoradd, inputs={\"a\": a, \"b\": b})\n",
    "    result = apply_tesseract(\n",
    "        vectoradd, inputs={\"a\": {\"v\": result[\"vector_add\"][\"result\"]}, \"b\": b}\n",
    "    )\n",
    "    result = (\n",
    "        2.0 * result[\"vector_add\"][\"normed_result\"] + b[\"v\"]\n",
    "    )  # We can mix and match with local operations\n",
    "    result = apply_tesseract(vectoradd, inputs={\"a\": {\"v\": result}, \"b\": b})\n",
    "    return result[\"vector_add\"][\"result\"][1]\n",
    "\n",
    "\n",
    "fancy_operation(a, b)"
   ]
  },
  {
   "cell_type": "markdown",
   "metadata": {},
   "source": [
    "And all this is compatible with jax.jit"
   ]
  },
  {
   "cell_type": "code",
   "execution_count": 6,
   "metadata": {},
   "outputs": [
    {
     "data": {
      "text/plain": [
       "Array(16.135319, dtype=float32)"
      ]
     },
     "execution_count": 6,
     "metadata": {},
     "output_type": "execute_result"
    }
   ],
   "source": [
    "import jax\n",
    "\n",
    "jitted_op = jax.jit(fancy_operation)\n",
    "jitted_op(a, b)"
   ]
  },
  {
   "cell_type": "markdown",
   "metadata": {},
   "source": [
    "And even with automatic differentiation (both when jitting and when not); for instance, here is how to calculate jvp"
   ]
  },
  {
   "cell_type": "code",
   "execution_count": 7,
   "metadata": {},
   "outputs": [
    {
     "data": {
      "text/plain": [
       "(Array(16.135319, dtype=float32), Array(25.004124, dtype=float32))"
      ]
     },
     "execution_count": 7,
     "metadata": {},
     "output_type": "execute_result"
    }
   ],
   "source": [
    "jax.jvp(fancy_operation, (a, b), (a, b))"
   ]
  },
  {
   "cell_type": "markdown",
   "metadata": {},
   "source": [
    "(where the first argument is the primal value, and the second is the Jacobian of fancy_operation calculated in $(a,b)$ multiplied with the vector $(a \\, a)$). Similarly, to calculate VJPs we can just do the following:"
   ]
  },
  {
   "cell_type": "code",
   "execution_count": 8,
   "metadata": {},
   "outputs": [
    {
     "data": {
      "text/plain": [
       "({'v': Array([-0.20733577,  0.56435245, -0.329298  ], dtype=float32)},\n",
       " {'s': Array(80.709854, dtype=float32),\n",
       "  'v': Array([-0.8293431, 50.663364 , -1.317192 ], dtype=float32)})"
      ]
     },
     "execution_count": 8,
     "metadata": {},
     "output_type": "execute_result"
    }
   ],
   "source": [
    "primal, vjp = jax.vjp(fancy_operation, a, b)\n",
    "vjp(primal)"
   ]
  },
  {
   "cell_type": "markdown",
   "metadata": {},
   "source": [
    "Where each element of the tuple is associated to the corresponding argument `a` or `b`.\n",
    "\n",
    "Finally, to calculate the gradient of `fancy_operation` w.r.t. the `a` argument at the point $(a,b)$ we just do:"
   ]
  },
  {
   "cell_type": "code",
   "execution_count": 9,
   "metadata": {},
   "outputs": [
    {
     "data": {
      "text/plain": [
       "{'v': Array([-0.01284981,  0.03497622, -0.02040852], dtype=float32)}"
      ]
     },
     "execution_count": 9,
     "metadata": {},
     "output_type": "execute_result"
    }
   ],
   "source": [
    "jax.grad(fancy_operation)(a, b)"
   ]
  },
  {
   "cell_type": "markdown",
   "metadata": {},
   "source": [
    "Notice that all of the above works also in conjunction with jax.jit"
   ]
  },
  {
   "cell_type": "code",
   "execution_count": 10,
   "metadata": {},
   "outputs": [
    {
     "data": {
      "text/plain": [
       "{'v': Array([-0.01284981,  0.03497622, -0.02040852], dtype=float32)}"
      ]
     },
     "execution_count": 10,
     "metadata": {},
     "output_type": "execute_result"
    }
   ],
   "source": [
    "# Jit inside differentiation\n",
    "jax.jvp(jitted_op, (a, b), (a, b))\n",
    "\n",
    "primal, vjp = jax.vjp(jitted_op, a, b)\n",
    "vjp(primal)\n",
    "\n",
    "jax.grad(jitted_op)(a, b)\n",
    "\n",
    "# And jax.jit could also wrap everything\n",
    "jax.jit(jax.grad(jitted_op))(a, b)"
   ]
  },
  {
   "cell_type": "code",
   "execution_count": 11,
   "metadata": {},
   "outputs": [],
   "source": [
    "vectoradd.teardown()"
   ]
  }
 ],
 "metadata": {
  "kernelspec": {
   "display_name": "science",
   "language": "python",
   "name": "python3"
  },
  "language_info": {
   "codemirror_mode": {
    "name": "ipython",
    "version": 3
   },
   "file_extension": ".py",
   "mimetype": "text/x-python",
   "name": "python",
   "nbconvert_exporter": "python",
   "pygments_lexer": "ipython3",
   "version": "3.12.7"
  }
 },
 "nbformat": 4,
 "nbformat_minor": 2
}
