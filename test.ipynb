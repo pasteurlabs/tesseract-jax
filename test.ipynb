{
 "cells": [
  {
   "cell_type": "code",
   "execution_count": 14,
   "id": "4317d6a5",
   "metadata": {},
   "outputs": [
    {
     "ename": "RuntimeError",
     "evalue": "Traceback (most recent call last):\n  File \"/home/ar/miniconda3/envs/tessj/lib/python3.12/site-packages/tesseract_core/sdk/tesseract.py\", line 664, in run_tesseract\n    result = self._endpoints[endpoint](parsed_payload)\n             ^^^^^^^^^^^^^^^^^^^^^^^^^^^^^^^^^^^^^^^^^\n  File \"/home/ar/miniconda3/envs/tessj/lib/python3.12/site-packages/tesseract_core/runtime/core.py\", line 237, in abstract_eval\n    return AbstractEvalOutputSchema.model_validate(out)\n           ^^^^^^^^^^^^^^^^^^^^^^^^^^^^^^^^^^^^^^^^^^^^\n  File \"/home/ar/miniconda3/envs/tessj/lib/python3.12/site-packages/pydantic/main.py\", line 693, in model_validate\n    return cls.__pydantic_validator__.validate_python(\n           ^^^^^^^^^^^^^^^^^^^^^^^^^^^^^^^^^^^^^^^^^^^\npydantic_core._pydantic_core.ValidationError: 1 validation error for AbstractOutputSchema\nc\n  Field required [type=missing, input_value={'b': ShapeDType(shape=(3,), dtype='float32')}, input_type=dict]\n    For further information visit https://errors.pydantic.dev/2.11/v/missing\n\nError running Tesseract API abstract_eval: 1 validation error for AbstractOutputSchema\nc\n  Field required [type=missing, input_value={'b': ShapeDType(shape=(3,), dtype='float32')}, input_type=dict]\n    For further information visit https://errors.pydantic.dev/2.11/v/missing (see above for full traceback)",
     "output_type": "error",
     "traceback": [
      "\u001b[31m---------------------------------------------------------------------------\u001b[39m",
      "\u001b[31mRuntimeError\u001b[39m                              Traceback (most recent call last)",
      "\u001b[36mCell\u001b[39m\u001b[36m \u001b[39m\u001b[32mIn[14]\u001b[39m\u001b[32m, line 12\u001b[39m\n\u001b[32m      6\u001b[39m vectoradd = Tesseract.from_tesseract_api(\u001b[33m\"\u001b[39m\u001b[33mexamples/simple/partial/tesseract_api.py\u001b[39m\u001b[33m\"\u001b[39m)\n\u001b[32m      9\u001b[39m input_dict = {\u001b[33m\"\u001b[39m\u001b[33ma\u001b[39m\u001b[33m\"\u001b[39m: jnp.array([\u001b[32m1.0\u001b[39m, \u001b[32m2.0\u001b[39m, \u001b[32m3.0\u001b[39m], dtype=\u001b[33m\"\u001b[39m\u001b[33mfloat32\u001b[39m\u001b[33m\"\u001b[39m)}\n\u001b[32m---> \u001b[39m\u001b[32m12\u001b[39m outputs = \u001b[43mapply_tesseract\u001b[49m\u001b[43m(\u001b[49m\u001b[43mvectoradd\u001b[49m\u001b[43m,\u001b[49m\u001b[43m \u001b[49m\u001b[43minputs\u001b[49m\u001b[43m=\u001b[49m\u001b[43minput_dict\u001b[49m\u001b[43m)\u001b[49m\n\u001b[32m     13\u001b[39m pprint(outputs)\n",
      "\u001b[36mFile \u001b[39m\u001b[32m~/tesseract-jax/tesseract_jax/primitive.py:362\u001b[39m, in \u001b[36mapply_tesseract\u001b[39m\u001b[34m(tesseract_client, inputs)\u001b[39m\n\u001b[32m    360\u001b[39m \u001b[38;5;66;03m# Get abstract values for outputs, so we can unflatten them later\u001b[39;00m\n\u001b[32m    361\u001b[39m output_pytreedef, avals = \u001b[38;5;28;01mNone\u001b[39;00m, \u001b[38;5;28;01mNone\u001b[39;00m\n\u001b[32m--> \u001b[39m\u001b[32m362\u001b[39m avals = \u001b[43mclient\u001b[49m\u001b[43m.\u001b[49m\u001b[43mabstract_eval\u001b[49m\u001b[43m(\u001b[49m\n\u001b[32m    363\u001b[39m \u001b[43m    \u001b[49m\u001b[43marray_args\u001b[49m\u001b[43m,\u001b[49m\n\u001b[32m    364\u001b[39m \u001b[43m    \u001b[49m\u001b[43mstatic_args\u001b[49m\u001b[43m,\u001b[49m\n\u001b[32m    365\u001b[39m \u001b[43m    \u001b[49m\u001b[43minput_pytreedef\u001b[49m\u001b[43m,\u001b[49m\n\u001b[32m    366\u001b[39m \u001b[43m    \u001b[49m\u001b[43moutput_pytreedef\u001b[49m\u001b[43m,\u001b[49m\n\u001b[32m    367\u001b[39m \u001b[43m    \u001b[49m\u001b[43mavals\u001b[49m\u001b[43m,\u001b[49m\n\u001b[32m    368\u001b[39m \u001b[43m    \u001b[49m\u001b[43mis_static_mask\u001b[49m\u001b[43m,\u001b[49m\n\u001b[32m    369\u001b[39m \u001b[43m\u001b[49m\u001b[43m)\u001b[49m\n\u001b[32m    371\u001b[39m is_aval = \u001b[38;5;28;01mlambda\u001b[39;00m x: \u001b[38;5;28misinstance\u001b[39m(x, \u001b[38;5;28mdict\u001b[39m) \u001b[38;5;129;01mand\u001b[39;00m \u001b[33m\"\u001b[39m\u001b[33mdtype\u001b[39m\u001b[33m\"\u001b[39m \u001b[38;5;129;01min\u001b[39;00m x \u001b[38;5;129;01mand\u001b[39;00m \u001b[33m\"\u001b[39m\u001b[33mshape\u001b[39m\u001b[33m\"\u001b[39m \u001b[38;5;129;01min\u001b[39;00m x\n\u001b[32m    372\u001b[39m flat_avals, output_pytreedef = jax.tree.flatten(avals, is_leaf=is_aval)\n",
      "\u001b[36mFile \u001b[39m\u001b[32m~/tesseract-jax/tesseract_jax/tesseract_compat.py:143\u001b[39m, in \u001b[36mJaxeract.abstract_eval\u001b[39m\u001b[34m(self, array_args, static_args, input_pytreedef, output_pytreedef, output_avals, is_static_mask)\u001b[39m\n\u001b[32m    134\u001b[39m avals = unflatten_args(array_args, static_args, input_pytreedef, is_static_mask)\n\u001b[32m    136\u001b[39m abstract_inputs = jax.tree.map(\n\u001b[32m    137\u001b[39m     \u001b[38;5;28;01mlambda\u001b[39;00m x: (\n\u001b[32m    138\u001b[39m         {\u001b[33m\"\u001b[39m\u001b[33mshape\u001b[39m\u001b[33m\"\u001b[39m: x.shape, \u001b[33m\"\u001b[39m\u001b[33mdtype\u001b[39m\u001b[33m\"\u001b[39m: x.dtype.name} \u001b[38;5;28;01mif\u001b[39;00m \u001b[38;5;28mhasattr\u001b[39m(x, \u001b[33m\"\u001b[39m\u001b[33mshape\u001b[39m\u001b[33m\"\u001b[39m) \u001b[38;5;28;01melse\u001b[39;00m x\n\u001b[32m    139\u001b[39m     ),\n\u001b[32m    140\u001b[39m     avals,\n\u001b[32m    141\u001b[39m )\n\u001b[32m--> \u001b[39m\u001b[32m143\u001b[39m out_data = \u001b[38;5;28;43mself\u001b[39;49m\u001b[43m.\u001b[49m\u001b[43mclient\u001b[49m\u001b[43m.\u001b[49m\u001b[43mabstract_eval\u001b[49m\u001b[43m(\u001b[49m\u001b[43mabstract_inputs\u001b[49m\u001b[43m)\u001b[49m\n\u001b[32m    144\u001b[39m \u001b[38;5;28;01mreturn\u001b[39;00m out_data\n",
      "\u001b[36mFile \u001b[39m\u001b[32m~/miniconda3/envs/tessj/lib/python3.12/site-packages/tesseract_core/sdk/tesseract.py:35\u001b[39m, in \u001b[36mrequires_client.<locals>.wrapper\u001b[39m\u001b[34m(self, *args, **kwargs)\u001b[39m\n\u001b[32m     30\u001b[39m \u001b[38;5;28;01mif\u001b[39;00m \u001b[38;5;129;01mnot\u001b[39;00m \u001b[38;5;28mself\u001b[39m._client:\n\u001b[32m     31\u001b[39m     \u001b[38;5;28;01mraise\u001b[39;00m \u001b[38;5;167;01mRuntimeError\u001b[39;00m(\n\u001b[32m     32\u001b[39m         \u001b[33mf\u001b[39m\u001b[33m\"\u001b[39m\u001b[33mWhen creating a \u001b[39m\u001b[38;5;132;01m{\u001b[39;00m\u001b[38;5;28mself\u001b[39m.\u001b[34m__class__\u001b[39m.\u001b[34m__name__\u001b[39m\u001b[38;5;132;01m}\u001b[39;00m\u001b[33m via `from_image`, \u001b[39m\u001b[33m\"\u001b[39m\n\u001b[32m     33\u001b[39m         \u001b[33m\"\u001b[39m\u001b[33myou must either use it as a context manager or call .serve() before use.\u001b[39m\u001b[33m\"\u001b[39m\n\u001b[32m     34\u001b[39m     )\n\u001b[32m---> \u001b[39m\u001b[32m35\u001b[39m \u001b[38;5;28;01mreturn\u001b[39;00m \u001b[43mfunc\u001b[49m\u001b[43m(\u001b[49m\u001b[38;5;28;43mself\u001b[39;49m\u001b[43m,\u001b[49m\u001b[43m \u001b[49m\u001b[43m*\u001b[49m\u001b[43margs\u001b[49m\u001b[43m,\u001b[49m\u001b[43m \u001b[49m\u001b[43m*\u001b[49m\u001b[43m*\u001b[49m\u001b[43mkwargs\u001b[49m\u001b[43m)\u001b[49m\n",
      "\u001b[36mFile \u001b[39m\u001b[32m~/miniconda3/envs/tessj/lib/python3.12/site-packages/tesseract_core/sdk/tesseract.py:338\u001b[39m, in \u001b[36mTesseract.abstract_eval\u001b[39m\u001b[34m(self, abstract_inputs)\u001b[39m\n\u001b[32m    329\u001b[39m \u001b[38;5;250m\u001b[39m\u001b[33;03m\"\"\"Run abstract eval endpoint.\u001b[39;00m\n\u001b[32m    330\u001b[39m \n\u001b[32m    331\u001b[39m \u001b[33;03mArgs:\u001b[39;00m\n\u001b[32m   (...)\u001b[39m\u001b[32m    335\u001b[39m \u001b[33;03m    dictionary with the results.\u001b[39;00m\n\u001b[32m    336\u001b[39m \u001b[33;03m\"\"\"\u001b[39;00m\n\u001b[32m    337\u001b[39m payload = {\u001b[33m\"\u001b[39m\u001b[33minputs\u001b[39m\u001b[33m\"\u001b[39m: abstract_inputs}\n\u001b[32m--> \u001b[39m\u001b[32m338\u001b[39m \u001b[38;5;28;01mreturn\u001b[39;00m \u001b[38;5;28;43mself\u001b[39;49m\u001b[43m.\u001b[49m\u001b[43m_client\u001b[49m\u001b[43m.\u001b[49m\u001b[43mrun_tesseract\u001b[49m\u001b[43m(\u001b[49m\u001b[33;43m\"\u001b[39;49m\u001b[33;43mabstract_eval\u001b[39;49m\u001b[33;43m\"\u001b[39;49m\u001b[43m,\u001b[49m\u001b[43m \u001b[49m\u001b[43mpayload\u001b[49m\u001b[43m)\u001b[49m\n",
      "\u001b[36mFile \u001b[39m\u001b[32m~/miniconda3/envs/tessj/lib/python3.12/site-packages/tesseract_core/sdk/tesseract.py:671\u001b[39m, in \u001b[36mLocalClient.run_tesseract\u001b[39m\u001b[34m(self, endpoint, payload, run_id)\u001b[39m\n\u001b[32m    667\u001b[39m \u001b[38;5;28;01mexcept\u001b[39;00m \u001b[38;5;167;01mException\u001b[39;00m \u001b[38;5;28;01mas\u001b[39;00m ex:\n\u001b[32m    668\u001b[39m     \u001b[38;5;66;03m# Some clients like Tesseract-JAX swallow tracebacks from re-raised exceptions, so we explicitly\u001b[39;00m\n\u001b[32m    669\u001b[39m     \u001b[38;5;66;03m# format the traceback here to include it in the error message.\u001b[39;00m\n\u001b[32m    670\u001b[39m     tb = traceback.format_exc()\n\u001b[32m--> \u001b[39m\u001b[32m671\u001b[39m     \u001b[38;5;28;01mraise\u001b[39;00m \u001b[38;5;167;01mRuntimeError\u001b[39;00m(\n\u001b[32m    672\u001b[39m         \u001b[33mf\u001b[39m\u001b[33m\"\u001b[39m\u001b[38;5;132;01m{\u001b[39;00mtb\u001b[38;5;132;01m}\u001b[39;00m\u001b[38;5;130;01m\\n\u001b[39;00m\u001b[33mError running Tesseract API \u001b[39m\u001b[38;5;132;01m{\u001b[39;00mendpoint\u001b[38;5;132;01m}\u001b[39;00m\u001b[33m: \u001b[39m\u001b[38;5;132;01m{\u001b[39;00mex\u001b[38;5;132;01m}\u001b[39;00m\u001b[33m (see above for full traceback)\u001b[39m\u001b[33m\"\u001b[39m\n\u001b[32m    673\u001b[39m     ) \u001b[38;5;28;01mfrom\u001b[39;00m\u001b[38;5;250m \u001b[39m\u001b[38;5;28;01mNone\u001b[39;00m\n\u001b[32m    675\u001b[39m \u001b[38;5;28;01mif\u001b[39;00m OutputSchema \u001b[38;5;129;01mis\u001b[39;00m \u001b[38;5;129;01mnot\u001b[39;00m \u001b[38;5;28;01mNone\u001b[39;00m:\n\u001b[32m    676\u001b[39m     \u001b[38;5;66;03m# Validate via schema, then dump to stay consistent with other clients\u001b[39;00m\n\u001b[32m    677\u001b[39m     \u001b[38;5;28;01mif\u001b[39;00m \u001b[38;5;28misinstance\u001b[39m(OutputSchema, \u001b[38;5;28mtype\u001b[39m) \u001b[38;5;129;01mand\u001b[39;00m \u001b[38;5;28missubclass\u001b[39m(OutputSchema, BaseModel):\n",
      "\u001b[31mRuntimeError\u001b[39m: Traceback (most recent call last):\n  File \"/home/ar/miniconda3/envs/tessj/lib/python3.12/site-packages/tesseract_core/sdk/tesseract.py\", line 664, in run_tesseract\n    result = self._endpoints[endpoint](parsed_payload)\n             ^^^^^^^^^^^^^^^^^^^^^^^^^^^^^^^^^^^^^^^^^\n  File \"/home/ar/miniconda3/envs/tessj/lib/python3.12/site-packages/tesseract_core/runtime/core.py\", line 237, in abstract_eval\n    return AbstractEvalOutputSchema.model_validate(out)\n           ^^^^^^^^^^^^^^^^^^^^^^^^^^^^^^^^^^^^^^^^^^^^\n  File \"/home/ar/miniconda3/envs/tessj/lib/python3.12/site-packages/pydantic/main.py\", line 693, in model_validate\n    return cls.__pydantic_validator__.validate_python(\n           ^^^^^^^^^^^^^^^^^^^^^^^^^^^^^^^^^^^^^^^^^^^\npydantic_core._pydantic_core.ValidationError: 1 validation error for AbstractOutputSchema\nc\n  Field required [type=missing, input_value={'b': ShapeDType(shape=(3,), dtype='float32')}, input_type=dict]\n    For further information visit https://errors.pydantic.dev/2.11/v/missing\n\nError running Tesseract API abstract_eval: 1 validation error for AbstractOutputSchema\nc\n  Field required [type=missing, input_value={'b': ShapeDType(shape=(3,), dtype='float32')}, input_type=dict]\n    For further information visit https://errors.pydantic.dev/2.11/v/missing (see above for full traceback)"
     ]
    }
   ],
   "source": [
    "\n",
    "from pprint import pprint\n",
    "from tesseract_core import Tesseract\n",
    "from tesseract_jax import apply_tesseract\n",
    "import jax.numpy as jnp\n",
    "\n",
    "vectoradd = Tesseract.from_tesseract_api(\"examples/simple/partial/tesseract_api.py\")\n",
    "\n",
    "\n",
    "input_dict = {\"a\": jnp.array([1.0, 2.0, 3.0], dtype=\"float32\")}\n",
    "\n",
    "\n",
    "outputs = apply_tesseract(vectoradd, inputs=input_dict)\n",
    "pprint(outputs)"
   ]
  },
  {
   "cell_type": "code",
   "execution_count": 13,
   "id": "1adb5855",
   "metadata": {},
   "outputs": [
    {
     "name": "stdout",
     "output_type": "stream",
     "text": [
      "Gradient shape: (3,)\n"
     ]
    }
   ],
   "source": [
    "grad = vectoradd.vector_jacobian_product(\n",
    "    inputs={\n",
    "        \"a\": jnp.array([1.0, 2.0, 3.0], dtype=\"float32\"),\n",
    "    },\n",
    "    vjp_inputs=[\"a\"],\n",
    "    vjp_outputs=[\"b\"],\n",
    "    cotangent_vector={\"b\": jnp.ones((3,), dtype=\"float32\")},\n",
    ")[\"a\"]\n",
    "\n",
    "print(\"Gradient shape:\", grad.shape)"
   ]
  },
  {
   "cell_type": "code",
   "execution_count": null,
   "id": "e43eeffb",
   "metadata": {},
   "outputs": [],
   "source": []
  }
 ],
 "metadata": {
  "kernelspec": {
   "display_name": "tessj",
   "language": "python",
   "name": "python3"
  },
  "language_info": {
   "codemirror_mode": {
    "name": "ipython",
    "version": 3
   },
   "file_extension": ".py",
   "mimetype": "text/x-python",
   "name": "python",
   "nbconvert_exporter": "python",
   "pygments_lexer": "ipython3",
   "version": "3.12.11"
  }
 },
 "nbformat": 4,
 "nbformat_minor": 5
}
