{
 "cells": [
  {
   "cell_type": "code",
   "execution_count": 2,
   "id": "4317d6a5",
   "metadata": {},
   "outputs": [
    {
     "ename": "NotImplementedError",
     "evalue": "Abstract evaluation for 'tesseract_dispatch' not implemented",
     "output_type": "error",
     "traceback": [
      "\u001b[31m---------------------------------------------------------------------------\u001b[39m",
      "\u001b[31mNotImplementedError\u001b[39m                       Traceback (most recent call last)",
      "\u001b[36mCell\u001b[39m\u001b[36m \u001b[39m\u001b[32mIn[2]\u001b[39m\u001b[32m, line 12\u001b[39m\n\u001b[32m      6\u001b[39m vectoradd = Tesseract.from_tesseract_api(\u001b[33m\"\u001b[39m\u001b[33mexamples/simple/partial/tesseract_api.py\u001b[39m\u001b[33m\"\u001b[39m)\n\u001b[32m      9\u001b[39m input_dict = {\u001b[33m\"\u001b[39m\u001b[33ma\u001b[39m\u001b[33m\"\u001b[39m: jnp.array([\u001b[32m1.0\u001b[39m, \u001b[32m2.0\u001b[39m, \u001b[32m3.0\u001b[39m], dtype=\u001b[33m\"\u001b[39m\u001b[33mfloat32\u001b[39m\u001b[33m\"\u001b[39m)}\n\u001b[32m---> \u001b[39m\u001b[32m12\u001b[39m outputs = \u001b[43mapply_tesseract\u001b[49m\u001b[43m(\u001b[49m\u001b[43mvectoradd\u001b[49m\u001b[43m,\u001b[49m\u001b[43m \u001b[49m\u001b[43minputs\u001b[49m\u001b[43m=\u001b[49m\u001b[43minput_dict\u001b[49m\u001b[43m)\u001b[49m\n\u001b[32m     13\u001b[39m pprint(outputs)\n",
      "\u001b[36mFile \u001b[39m\u001b[32m~/tesseract-jax/tesseract_jax/primitive.py:386\u001b[39m, in \u001b[36mapply_tesseract\u001b[39m\u001b[34m(tesseract_client, inputs)\u001b[39m\n\u001b[32m    380\u001b[39m     flat_avals = \u001b[38;5;28mtuple\u001b[39m(\n\u001b[32m    381\u001b[39m         jax.ShapeDtypeStruct(shape=\u001b[38;5;28mtuple\u001b[39m(aval[\u001b[33m\"\u001b[39m\u001b[33mshape\u001b[39m\u001b[33m\"\u001b[39m]), dtype=aval[\u001b[33m\"\u001b[39m\u001b[33mdtype\u001b[39m\u001b[33m\"\u001b[39m])\n\u001b[32m    382\u001b[39m         \u001b[38;5;28;01mfor\u001b[39;00m aval \u001b[38;5;129;01min\u001b[39;00m flat_avals\n\u001b[32m    383\u001b[39m     )\n\u001b[32m    385\u001b[39m \u001b[38;5;66;03m# Apply the primitive\u001b[39;00m\n\u001b[32m--> \u001b[39m\u001b[32m386\u001b[39m out = \u001b[43mtesseract_dispatch_p\u001b[49m\u001b[43m.\u001b[49m\u001b[43mbind\u001b[49m\u001b[43m(\u001b[49m\n\u001b[32m    387\u001b[39m \u001b[43m    \u001b[49m\u001b[43m*\u001b[49m\u001b[43marray_args\u001b[49m\u001b[43m,\u001b[49m\n\u001b[32m    388\u001b[39m \u001b[43m    \u001b[49m\u001b[43mstatic_args\u001b[49m\u001b[43m=\u001b[49m\u001b[43mstatic_args\u001b[49m\u001b[43m,\u001b[49m\n\u001b[32m    389\u001b[39m \u001b[43m    \u001b[49m\u001b[43minput_pytreedef\u001b[49m\u001b[43m=\u001b[49m\u001b[43minput_pytreedef\u001b[49m\u001b[43m,\u001b[49m\n\u001b[32m    390\u001b[39m \u001b[43m    \u001b[49m\u001b[43moutput_pytreedef\u001b[49m\u001b[43m=\u001b[49m\u001b[43moutput_pytreedef\u001b[49m\u001b[43m,\u001b[49m\n\u001b[32m    391\u001b[39m \u001b[43m    \u001b[49m\u001b[43moutput_avals\u001b[49m\u001b[43m=\u001b[49m\u001b[43mflat_avals\u001b[49m\u001b[43m,\u001b[49m\n\u001b[32m    392\u001b[39m \u001b[43m    \u001b[49m\u001b[43mis_static_mask\u001b[49m\u001b[43m=\u001b[49m\u001b[43mis_static_mask\u001b[49m\u001b[43m,\u001b[49m\n\u001b[32m    393\u001b[39m \u001b[43m    \u001b[49m\u001b[43mclient\u001b[49m\u001b[43m=\u001b[49m\u001b[43mclient\u001b[49m\u001b[43m,\u001b[49m\n\u001b[32m    394\u001b[39m \u001b[43m    \u001b[49m\u001b[43meval_func\u001b[49m\u001b[43m=\u001b[49m\u001b[33;43m\"\u001b[39;49m\u001b[33;43mapply\u001b[39;49m\u001b[33;43m\"\u001b[39;49m\u001b[43m,\u001b[49m\n\u001b[32m    395\u001b[39m \u001b[43m\u001b[49m\u001b[43m)\u001b[49m\n\u001b[32m    397\u001b[39m \u001b[38;5;66;03m# else:\u001b[39;00m\n\u001b[32m    398\u001b[39m \u001b[38;5;66;03m#     # Apply the primitive\u001b[39;00m\n\u001b[32m    399\u001b[39m \u001b[38;5;66;03m#     out = tesseract_dispatch_p.bind(\u001b[39;00m\n\u001b[32m   (...)\u001b[39m\u001b[32m    407\u001b[39m \n\u001b[32m    408\u001b[39m \u001b[38;5;66;03m# Unflatten the output\u001b[39;00m\n\u001b[32m    409\u001b[39m \u001b[38;5;28;01mreturn\u001b[39;00m jax.tree.unflatten(output_pytreedef, out)\n",
      "\u001b[36mFile \u001b[39m\u001b[32m~/miniconda3/envs/tessj/lib/python3.12/site-packages/jax/_src/core.py:612\u001b[39m, in \u001b[36mPrimitive.bind\u001b[39m\u001b[34m(self, *args, **params)\u001b[39m\n\u001b[32m    610\u001b[39m \u001b[38;5;28;01mdef\u001b[39;00m\u001b[38;5;250m \u001b[39m\u001b[34mbind\u001b[39m(\u001b[38;5;28mself\u001b[39m, *args, **params):\n\u001b[32m    611\u001b[39m   args = args \u001b[38;5;28;01mif\u001b[39;00m \u001b[38;5;28mself\u001b[39m.skip_canonicalization \u001b[38;5;28;01melse\u001b[39;00m \u001b[38;5;28mmap\u001b[39m(canonicalize_value, args)\n\u001b[32m--> \u001b[39m\u001b[32m612\u001b[39m   \u001b[38;5;28;01mreturn\u001b[39;00m \u001b[38;5;28;43mself\u001b[39;49m\u001b[43m.\u001b[49m\u001b[43m_true_bind\u001b[49m\u001b[43m(\u001b[49m\u001b[43m*\u001b[49m\u001b[43margs\u001b[49m\u001b[43m,\u001b[49m\u001b[43m \u001b[49m\u001b[43m*\u001b[49m\u001b[43m*\u001b[49m\u001b[43mparams\u001b[49m\u001b[43m)\u001b[49m\n",
      "\u001b[36mFile \u001b[39m\u001b[32m~/miniconda3/envs/tessj/lib/python3.12/site-packages/jax/_src/core.py:628\u001b[39m, in \u001b[36mPrimitive._true_bind\u001b[39m\u001b[34m(self, *args, **params)\u001b[39m\n\u001b[32m    626\u001b[39m trace_ctx.set_trace(eval_trace)\n\u001b[32m    627\u001b[39m \u001b[38;5;28;01mtry\u001b[39;00m:\n\u001b[32m--> \u001b[39m\u001b[32m628\u001b[39m   \u001b[38;5;28;01mreturn\u001b[39;00m \u001b[38;5;28;43mself\u001b[39;49m\u001b[43m.\u001b[49m\u001b[43mbind_with_trace\u001b[49m\u001b[43m(\u001b[49m\u001b[43mprev_trace\u001b[49m\u001b[43m,\u001b[49m\u001b[43m \u001b[49m\u001b[43margs\u001b[49m\u001b[43m,\u001b[49m\u001b[43m \u001b[49m\u001b[43mparams\u001b[49m\u001b[43m)\u001b[49m\n\u001b[32m    629\u001b[39m \u001b[38;5;28;01mfinally\u001b[39;00m:\n\u001b[32m    630\u001b[39m   trace_ctx.set_trace(prev_trace)\n",
      "\u001b[36mFile \u001b[39m\u001b[32m~/miniconda3/envs/tessj/lib/python3.12/site-packages/jax/_src/core.py:638\u001b[39m, in \u001b[36mPrimitive.bind_with_trace\u001b[39m\u001b[34m(self, trace, args, params)\u001b[39m\n\u001b[32m    635\u001b[39m   \u001b[38;5;28;01mwith\u001b[39;00m set_current_trace(trace):\n\u001b[32m    636\u001b[39m     \u001b[38;5;28;01mreturn\u001b[39;00m \u001b[38;5;28mself\u001b[39m.to_lojax(*args, **params)  \u001b[38;5;66;03m# type: ignore\u001b[39;00m\n\u001b[32m--> \u001b[39m\u001b[32m638\u001b[39m \u001b[38;5;28;01mreturn\u001b[39;00m \u001b[43mtrace\u001b[49m\u001b[43m.\u001b[49m\u001b[43mprocess_primitive\u001b[49m\u001b[43m(\u001b[49m\u001b[38;5;28;43mself\u001b[39;49m\u001b[43m,\u001b[49m\u001b[43m \u001b[49m\u001b[43margs\u001b[49m\u001b[43m,\u001b[49m\u001b[43m \u001b[49m\u001b[43mparams\u001b[49m\u001b[43m)\u001b[49m\n",
      "\u001b[36mFile \u001b[39m\u001b[32m~/miniconda3/envs/tessj/lib/python3.12/site-packages/jax/_src/core.py:1162\u001b[39m, in \u001b[36mEvalTrace.process_primitive\u001b[39m\u001b[34m(self, primitive, args, params)\u001b[39m\n\u001b[32m   1160\u001b[39m args = \u001b[38;5;28mmap\u001b[39m(full_lower, args)\n\u001b[32m   1161\u001b[39m check_eval_args(args)\n\u001b[32m-> \u001b[39m\u001b[32m1162\u001b[39m \u001b[38;5;28;01mreturn\u001b[39;00m \u001b[43mprimitive\u001b[49m\u001b[43m.\u001b[49m\u001b[43mimpl\u001b[49m\u001b[43m(\u001b[49m\u001b[43m*\u001b[49m\u001b[43margs\u001b[49m\u001b[43m,\u001b[49m\u001b[43m \u001b[49m\u001b[43m*\u001b[49m\u001b[43m*\u001b[49m\u001b[43mparams\u001b[49m\u001b[43m)\u001b[49m\n",
      "\u001b[36mFile \u001b[39m\u001b[32m~/miniconda3/envs/tessj/lib/python3.12/site-packages/jax/_src/dispatch.py:90\u001b[39m, in \u001b[36mapply_primitive\u001b[39m\u001b[34m(prim, *args, **params)\u001b[39m\n\u001b[32m     88\u001b[39m prev = lib.jax_jit.swap_thread_local_state_disable_jit(\u001b[38;5;28;01mFalse\u001b[39;00m)\n\u001b[32m     89\u001b[39m \u001b[38;5;28;01mtry\u001b[39;00m:\n\u001b[32m---> \u001b[39m\u001b[32m90\u001b[39m   outs = \u001b[43mfun\u001b[49m\u001b[43m(\u001b[49m\u001b[43m*\u001b[49m\u001b[43margs\u001b[49m\u001b[43m)\u001b[49m\n\u001b[32m     91\u001b[39m \u001b[38;5;28;01mfinally\u001b[39;00m:\n\u001b[32m     92\u001b[39m   lib.jax_jit.swap_thread_local_state_disable_jit(prev)\n",
      "    \u001b[31m[... skipping hidden 22 frame]\u001b[39m\n",
      "\u001b[36mFile \u001b[39m\u001b[32m~/miniconda3/envs/tessj/lib/python3.12/site-packages/jax/_src/core.py:665\u001b[39m, in \u001b[36mPrimitive.abstract_eval\u001b[39m\u001b[34m(self, *args, **params)\u001b[39m\n\u001b[32m    664\u001b[39m \u001b[38;5;28;01mdef\u001b[39;00m\u001b[38;5;250m \u001b[39m\u001b[34mabstract_eval\u001b[39m(\u001b[38;5;28mself\u001b[39m, *args, **params):\n\u001b[32m--> \u001b[39m\u001b[32m665\u001b[39m   \u001b[38;5;28;01mraise\u001b[39;00m \u001b[38;5;167;01mNotImplementedError\u001b[39;00m(\u001b[33m\"\u001b[39m\u001b[33mAbstract evaluation for \u001b[39m\u001b[33m'\u001b[39m\u001b[38;5;132;01m{}\u001b[39;00m\u001b[33m'\u001b[39m\u001b[33m not implemented\u001b[39m\u001b[33m\"\u001b[39m\n\u001b[32m    666\u001b[39m                             .format(\u001b[38;5;28mself\u001b[39m.name))\n",
      "\u001b[31mNotImplementedError\u001b[39m: Abstract evaluation for 'tesseract_dispatch' not implemented"
     ]
    }
   ],
   "source": [
    "\n",
    "from pprint import pprint\n",
    "from tesseract_core import Tesseract\n",
    "from tesseract_jax import apply_tesseract\n",
    "import jax.numpy as jnp\n",
    "\n",
    "vectoradd = Tesseract.from_tesseract_api(\"examples/simple/partial/tesseract_api.py\")\n",
    "\n",
    "\n",
    "input_dict = {\"a\": jnp.array([1.0, 2.0, 3.0], dtype=\"float32\")}\n",
    "\n",
    "\n",
    "outputs = apply_tesseract(vectoradd, inputs=input_dict)\n",
    "pprint(outputs)"
   ]
  },
  {
   "cell_type": "code",
   "execution_count": 13,
   "id": "1adb5855",
   "metadata": {},
   "outputs": [
    {
     "name": "stdout",
     "output_type": "stream",
     "text": [
      "Gradient shape: (3,)\n"
     ]
    }
   ],
   "source": [
    "grad = vectoradd.vector_jacobian_product(\n",
    "    inputs={\n",
    "        \"a\": jnp.array([1.0, 2.0, 3.0], dtype=\"float32\"),\n",
    "    },\n",
    "    vjp_inputs=[\"a\"],\n",
    "    vjp_outputs=[\"b\"],\n",
    "    cotangent_vector={\"b\": jnp.ones((3,), dtype=\"float32\")},\n",
    ")[\"a\"]\n",
    "\n",
    "print(\"Gradient shape:\", grad.shape)"
   ]
  },
  {
   "cell_type": "code",
   "execution_count": null,
   "id": "e43eeffb",
   "metadata": {},
   "outputs": [],
   "source": []
  }
 ],
 "metadata": {
  "kernelspec": {
   "display_name": "tessj",
   "language": "python",
   "name": "python3"
  },
  "language_info": {
   "codemirror_mode": {
    "name": "ipython",
    "version": 3
   },
   "file_extension": ".py",
   "mimetype": "text/x-python",
   "name": "python",
   "nbconvert_exporter": "python",
   "pygments_lexer": "ipython3",
   "version": "3.12.11"
  }
 },
 "nbformat": 4,
 "nbformat_minor": 5
}
